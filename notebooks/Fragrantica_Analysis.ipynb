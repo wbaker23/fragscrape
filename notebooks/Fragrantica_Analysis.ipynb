{
 "cells": [
  {
   "cell_type": "code",
   "execution_count": 1,
   "metadata": {},
   "outputs": [],
   "source": [
    "from numpy import add\n",
    "from sklearn.metrics.pairwise import cosine_similarity\n",
    "from numpy.linalg import norm\n",
    "from scipy.stats import describe\n",
    "from matplotlib.pyplot import hist\n",
    "\n",
    "from selenium.webdriver import Firefox\n",
    "from selenium.webdriver.firefox.options import Options\n",
    "from selenium.webdriver.common.by import By\n",
    "\n",
    "from pandas import read_csv, DataFrame, Series, options\n",
    "\n",
    "options.display.max_rows = 300\n",
    "\n",
    "from re import sub\n",
    "from ast import literal_eval\n",
    "from numpy import int64, average, std\n",
    "\n",
    "options = Options()\n",
    "options.headless = False\n",
    "options.page_load_strategy = \"normal\""
   ]
  },
  {
   "cell_type": "code",
   "execution_count": null,
   "metadata": {},
   "outputs": [],
   "source": [
    "# my_collection = [\"Neroli Portofino\", \"Mugler Cologne\", \"Encre Noire\",\n",
    "#                 \"Armani Code\", \"Aventus\", \"Terre d'Hermes\", \"La Nuit de l'Homme\",\n",
    "#                 \"Tobacco Vanille\", \"Le Male\", \"Azzaro pour Homme\",\n",
    "#                 \"Dior Homme Intense 2011\", \"Fahrenheit\", \"Tuscan Leather\",\n",
    "#                 \"Sauvage\", \"Acqua di Gio\", \"The One for Men\",\n",
    "#                 \"Eau Sauvage\", \"Virgin Island Water\", \"Cool Water\",\n",
    "#                 \"Dior Homme Cologne 2013\", \"Versace Man Eau Fraiche\",\n",
    "#                 \"L'Eau d'Issey Pour Homme\", \"Un Jardin Sur Le Nil\"]\n",
    "# fragdb_notes = read_csv('frags_notes.csv', index_col=0).loc[fragdb.index.intersection(my_collection)]\n",
    "# fragdb_accords = read_csv('frags_accords.csv', index_col=0).loc[fragdb.index.intersection(my_collection)]"
   ]
  },
  {
   "cell_type": "code",
   "execution_count": 3,
   "metadata": {},
   "outputs": [],
   "source": [
    "with Firefox(options=options) as driver:\n",
    "    driver.implicitly_wait(10)\n",
    "    driver.get(\"https://www.fragrantica.com/notes/\")\n",
    "\n",
    "    note_group_names = []\n",
    "    for i in [\"01\", \"02\", \"03\", \"04\", \"05\", \"06\", \"07\", \"08\", \"09\", \"10\", \"11\", \"12\"]:\n",
    "        note_group_names.append(\n",
    "            driver.find_element(\n",
    "                By.CSS_SELECTOR,\n",
    "                f\"#groupnotes_group_{i}_title > div:nth-child(1) > h2:nth-child(1)\",\n",
    "            ).text.title()\n",
    "        )\n",
    "\n",
    "    note_group_notes = []\n",
    "    i = 0\n",
    "    for j in [6, 9, 12, 15, 18, 21, 24, 27, 30, 33, 36, 39]:\n",
    "        note_group_notes.append(\n",
    "            sub(\n",
    "                r\"\\n\\n\",\n",
    "                \",\",\n",
    "                driver.find_element(\n",
    "                    By.CSS_SELECTOR,\n",
    "                    f\".grid-padding-x > div:nth-child({j}) > div:nth-child(1)\",\n",
    "                ).text,\n",
    "            ).split(\",\")\n",
    "        )\n",
    "        i = i + 1\n",
    "\n",
    "note_groups = list(zip(note_group_names, note_group_notes))"
   ]
  },
  {
   "cell_type": "code",
   "execution_count": 4,
   "metadata": {},
   "outputs": [],
   "source": [
    "fragdb_accords = read_csv(\"frags_accords.csv\", index_col=0)\n",
    "fragdb_notes = read_csv(\"frags_notes.csv\", index_col=0)\n",
    "\n",
    "fragdb_groups = DataFrame(index=fragdb_notes.index)\n",
    "for note_group in note_groups:\n",
    "    fragdb_groups.insert(\n",
    "        len(fragdb_groups.columns),\n",
    "        f\"Group_{note_group[0]}\",\n",
    "        fragdb_notes[fragdb_notes.columns.intersection(note_group[1])].sum(axis=1),\n",
    "    )\n",
    "fragdb_groups.to_csv(\"frags_groups.csv\")\n",
    "\n",
    "fragdb_seasons = read_csv(\"frags_seasons.csv\", index_col=0)"
   ]
  },
  {
   "cell_type": "code",
   "execution_count": 5,
   "metadata": {},
   "outputs": [],
   "source": [
    "fragdb_notes = fragdb_notes.div(fragdb_notes.max(axis=1), axis=0).dropna()"
   ]
  },
  {
   "cell_type": "markdown",
   "metadata": {},
   "source": [
    "Most closely related fragrances:"
   ]
  },
  {
   "cell_type": "code",
   "execution_count": 6,
   "metadata": {},
   "outputs": [
    {
     "name": "stdout",
     "output_type": "stream",
     "text": [
      "(0.703, 0.942, 0.96, 0.986) : Eau Sauvage / Chrome\n",
      "(0.704, 0.834, 0.906, 0.996) : Chrome / Versace Pour Homme\n",
      "(0.71, 0.678, 0.855, 0.996) : Club de Nuit Intense Man / Aventus\n",
      "(0.716, 0.676, 0.405, 0.739) : Les Exclusifs de Chanel Sycomore / Encre Noire\n",
      "(0.776, 0.645, 0.331, 0.8) : L’Ambre des Merveilles / Gaultier 2\n",
      "(0.705, 0.346, 0.0, 0.586) : Valentino Uomo Intense / Dior Homme Intense 2007\n",
      "(0.711, 0.219, 0.434, 0.662) : CK One Shock For Him / The One for Men Eau de Parfum\n",
      "(0.775, 0.0, 0.142, 0.349) : 4711 Original Eau de Cologne / Eau Sauvage\n"
     ]
    }
   ],
   "source": [
    "accords_cosine_array = cosine_similarity(fragdb_accords).round(3)\n",
    "notes_cosine_array = cosine_similarity(fragdb_notes).round(3)\n",
    "groups_cosine_array = cosine_similarity(fragdb_groups).round(3)\n",
    "seasons_cosine_array = cosine_similarity(fragdb_seasons).round(3)\n",
    "closest_frags = {}\n",
    "\n",
    "for i in range(0, len(notes_cosine_array)):\n",
    "    for j in range(0, i):\n",
    "        if (\n",
    "            notes_cosine_array[i][j] > 0.7\n",
    "            and fragdb_notes.index[i] not in fragdb_notes.index[j]\n",
    "            and fragdb_notes.index[j] not in fragdb_notes.index[i]\n",
    "        ):\n",
    "            closest_frags[f\"{fragdb_notes.index[i]} / {fragdb_notes.index[j]}\"] = (\n",
    "                notes_cosine_array[i][j],\n",
    "                accords_cosine_array[i][j],\n",
    "                groups_cosine_array[i][j],\n",
    "                seasons_cosine_array[i][j],\n",
    "            )\n",
    "\n",
    "weights = [0.0, 1.0, 0.0, 0.0]\n",
    "for pair in sorted(\n",
    "    closest_frags.items(),\n",
    "    key=lambda x: average([x[1][0], x[1][1], x[1][2], x[1][3]], weights=weights),\n",
    "    reverse=True,\n",
    "):\n",
    "    print(f\"{pair[1]} : {pair[0]}\")"
   ]
  },
  {
   "cell_type": "code",
   "execution_count": 7,
   "metadata": {},
   "outputs": [
    {
     "data": {
      "text/plain": [
       "(array([3., 1., 1., 1., 0., 0., 0., 0., 0., 0., 0., 0., 0., 0., 0., 0., 0.,\n",
       "        0., 0., 2.]),\n",
       " array([0.703  , 0.70665, 0.7103 , 0.71395, 0.7176 , 0.72125, 0.7249 ,\n",
       "        0.72855, 0.7322 , 0.73585, 0.7395 , 0.74315, 0.7468 , 0.75045,\n",
       "        0.7541 , 0.75775, 0.7614 , 0.76505, 0.7687 , 0.77235, 0.776  ]),\n",
       " <a list of 20 Patch objects>)"
      ]
     },
     "execution_count": 7,
     "metadata": {},
     "output_type": "execute_result"
    },
    {
     "data": {
      "image/png": "[encoded data removed]",
      "text/plain": [
       "<Figure size 432x288 with 1 Axes>"
      ]
     },
     "metadata": {
      "needs_background": "light"
     },
     "output_type": "display_data"
    }
   ],
   "source": [
    "hist([cosine[0] for cosine in closest_frags.values()], bins=20)"
   ]
  },
  {
   "cell_type": "code",
   "execution_count": null,
   "metadata": {},
   "outputs": [],
   "source": [
    "hist([cosine[1] for cosine in closest_frags.values()], bins=20)"
   ]
  },
  {
   "cell_type": "code",
   "execution_count": null,
   "metadata": {},
   "outputs": [],
   "source": [
    "hist([cosine[2] for cosine in closest_frags.values()], bins=20)"
   ]
  },
  {
   "cell_type": "code",
   "execution_count": 15,
   "metadata": {},
   "outputs": [
    {
     "name": "stdout",
     "output_type": "stream",
     "text": [
      "A*Men                      0.549296\n",
      "Tobacco Vanille            0.520000\n",
      "Spicebomb Extreme          0.519685\n",
      "Interlude Man              0.513043\n",
      "Joop! Homme                0.500000\n",
      "Chocolate Greedy           0.496296\n",
      "By the Fireplace           0.495652\n",
      "Dior Homme Intense 2007    0.494845\n",
      "M7                         0.490196\n",
      "Dior Homme Parfum          0.482456\n",
      "Name: Winter, dtype: float64\n"
     ]
    }
   ],
   "source": [
    "season = \"Winter\"\n",
    "print(fragdb_seasons.sort_values(season, ascending=False)[season].iloc[:10])"
   ]
  },
  {
   "cell_type": "code",
   "execution_count": 31,
   "metadata": {},
   "outputs": [
    {
     "data": {
      "text/plain": [
       "Bleu de Chanel Eau de Parfum                             0.040116\n",
       "Datura Noir                                              0.040713\n",
       "Terre d'Hermes Parfum                                    0.052887\n",
       "Molecule 01                                              0.054867\n",
       "Eros                                                     0.056954\n",
       "Acqua di Parma Blu Mediterraneo - Mandorlo di Sicilia    0.060988\n",
       "Legend                                                   0.063181\n",
       "Dolce&Gabbana pour Homme (1994)                          0.065705\n",
       "Prada Amber Pour Homme (Prada Man)                       0.065863\n",
       "Bleu de Chanel                                           0.069555\n",
       "Fierce                                                   0.071325\n",
       "Allure Homme Sport Eau Extreme                           0.072156\n",
       "Sauvage                                                  0.074825\n",
       "L'Eau Bleue d'Issey Pour Homme                           0.074992\n",
       "Declaration                                              0.075959\n",
       "Reflection Man                                           0.079473\n",
       "Terre d'Hermes                                           0.079640\n",
       "Escentric 01                                             0.081011\n",
       "Habit Rouge Eau de Toilette                              0.082083\n",
       "Carnal Flower                                            0.083039\n",
       "Club de Nuit Intense Man                                 0.083322\n",
       "Les Exclusifs de Chanel Sycomore                         0.083457\n",
       "Timbuktu                                                 0.084482\n",
       "Allure Pour Homme                                        0.085906\n",
       "La Fille de Berlin                                       0.087152\n",
       "Comme des Garcons 2                                      0.087929\n",
       "Individuel                                               0.088499\n",
       "Boss Bottled                                             0.091054\n",
       "Blue Jeans                                               0.091124\n",
       "Tam Dao                                                  0.091258\n",
       "Gypsy Water                                              0.092901\n",
       "Aventus                                                  0.095071\n",
       "Layton                                                   0.096274\n",
       "Baccarat Rouge 540                                       0.098330\n",
       "Enchanted Forest                                         0.100703\n",
       "Chic For Men                                             0.101966\n",
       "Angélique Noire                                          0.102343\n",
       "He Wood Rocky Mountain Wood                              0.104734\n",
       "CH Men                                                   0.105812\n",
       "Black XS                                                 0.105940\n",
       "Drakkar Noir                                             0.106834\n",
       "Versace Pour Homme Dylan Blue                            0.107874\n",
       "Grey Flannel                                             0.108076\n",
       "Eau Sauvage Parfum                                       0.108389\n",
       "Gucci Pour Homme II                                      0.108493\n",
       "Kouros                                                   0.109165\n",
       "Dreamer The Original Edition                             0.109302\n",
       "Egoiste Platinum                                         0.109674\n",
       "The One for Men                                          0.111475\n",
       "Prada L'Homme                                            0.111813\n",
       "Escentric 02                                             0.113544\n",
       "Vetiver                                                  0.115468\n",
       "Dior Homme                                               0.115509\n",
       "L'Instant de Guerlain pour Homme                         0.118155\n",
       "Le Male                                                  0.121490\n",
       "Acqua di Gio Profumo                                     0.121627\n",
       "Dior Homme 2005                                          0.123022\n",
       "L'Homme                                                  0.123179\n",
       "Azzaro pour Homme                                        0.125258\n",
       "Narciso Rodriguez for Him                                0.125260\n",
       "CK be                                                    0.127067\n",
       "Encre Noire Sport                                        0.127341\n",
       "Infusion d'Homme                                         0.127865\n",
       "Kenzo pour Homme                                         0.128293\n",
       "Xeryus Rouge                                             0.131903\n",
       "Fahrenheit                                               0.133844\n",
       "Fleurs d'Oranger                                         0.134496\n",
       "Cedrat Boise                                             0.134873\n",
       "Lolita Lempicka Au Masculin                              0.136884\n",
       "Royal Oud                                                0.137188\n",
       "212 VIP Men                                              0.138480\n",
       "F by Ferragamo Black                                     0.141251\n",
       "Bal d'Afrique                                            0.142717\n",
       "Daim Blond                                               0.143273\n",
       "02 L'Air du Desert Marocain                              0.143665\n",
       "Polo                                                     0.144037\n",
       "Wood Sage & Sea Salt                                     0.144234\n",
       "Body Kouros                                              0.144706\n",
       "Grey Vetiver                                             0.145248\n",
       "The One for Men Eau de Parfum                            0.145989\n",
       "Envy for Men                                             0.146203\n",
       "Burberry Brit for Men                                    0.147012\n",
       "Oud Wood                                                 0.147142\n",
       "Green Irish Tweed                                        0.147309\n",
       "Aramis                                                   0.147453\n",
       "Yatagan                                                  0.147792\n",
       "Wonderwood                                               0.149462\n",
       "Invictus                                                 0.151112\n",
       "La Nuit de l'Homme                                       0.152289\n",
       "Memoir Man                                               0.152396\n",
       "Hugo                                                     0.153481\n",
       "Ultra Male                                               0.153532\n",
       "Five O'Clock Au Gingembre                                0.154801\n",
       "Eau Duelle                                               0.155489\n",
       "Jaipur Homme                                             0.156333\n",
       "Rochas Man                                               0.157228\n",
       "L’Ambre des Merveilles                                   0.158245\n",
       "L’Homme Ideal                                            0.158534\n",
       "Armani Code                                              0.158592\n",
       "Jubilation XXV Man                                       0.158711\n",
       "Egoiste                                                  0.158716\n",
       "Encre Noire                                              0.158970\n",
       "Comme des Garcons 2 Man                                  0.161419\n",
       "212 Men                                                  0.161914\n",
       "Pulp                                                     0.166528\n",
       "Opium Pour Homme                                         0.170806\n",
       "CK One Shock For Him                                     0.171479\n",
       "Black                                                    0.171853\n",
       "L’Homme Ideal Eau de Parfum                              0.173894\n",
       "Feminite du Bois                                         0.175222\n",
       "Allure Homme Sport                                       0.175571\n",
       "Zino Davidoff                                            0.176045\n",
       "Midnight in Paris                                        0.177269\n",
       "Voyage d'Hermes                                          0.179260\n",
       "Louve                                                    0.179704\n",
       "Eternity For Men                                         0.179892\n",
       "Gaultier 2                                               0.180565\n",
       "1270                                                     0.181601\n",
       "Silver Mountain Water                                    0.183453\n",
       "Grand Soir                                               0.185829\n",
       "Encre Noire A L'Extreme                                  0.185904\n",
       "Un Bois Vanille                                          0.186006\n",
       "Eau Sauvage                                              0.186069\n",
       "Comme des Garcons Series 3 Incense: Avignon              0.186228\n",
       "1 Million                                                0.188703\n",
       "Cuir Beluga                                              0.188940\n",
       "Givenchy Play Intense                                    0.189051\n",
       "Allure Homme Edition Blanche                             0.189567\n",
       "Tea for Two                                              0.189608\n",
       "La Collection M7 Oud Absolu                              0.190720\n",
       "Philosykos                                               0.191364\n",
       "Guerlain Homme                                           0.191651\n",
       "Fille en Aiguilles                                       0.192374\n",
       "Joop! Homme                                              0.192568\n",
       "Ambre Sultan                                             0.193529\n",
       "Valentino Uomo                                           0.193563\n",
       "Pi                                                       0.193711\n",
       "Acqua di Gio Essenza                                     0.194013\n",
       "Eau des Baux                                             0.195468\n",
       "Antaeus                                                  0.196176\n",
       "Arabie                                                   0.198158\n",
       "Noir de Noir                                             0.199440\n",
       "Dior Homme Intense 2011                                  0.199517\n",
       "A*Men Pure Havane                                        0.200504\n",
       "L'Instant de Guerlain pour Homme Eau Extreme             0.200945\n",
       "Polo Blue                                                0.203192\n",
       "Tonka Imperiale                                          0.203385\n",
       "Jeux de Peau                                             0.204094\n",
       "Lalique White                                            0.204702\n",
       "Gucci pour Homme (2003)                                  0.205292\n",
       "Fève Délicieuse                                          0.206038\n",
       "Spicebomb                                                0.206380\n",
       "Tuscan Leather                                           0.206659\n",
       "Obsession for Men                                        0.206846\n",
       "CH Men Prive                                             0.206854\n",
       "M7                                                       0.207278\n",
       "Musc Ravageur                                            0.208131\n",
       "Un Jardin Apres la Mousson                               0.208944\n",
       "Dior Homme Intense 2007                                  0.208980\n",
       "Black Afgano                                             0.210809\n",
       "A*Men Pure Malt                                          0.211737\n",
       "L'Eau d'Issey Pour Homme                                 0.212211\n",
       "Versace Pour Homme                                       0.212652\n",
       "Intense Cafe                                             0.213846\n",
       "Noir Extreme                                             0.214279\n",
       "Aqva Amara                                               0.214326\n",
       "Dior Homme Sport 2012                                    0.215036\n",
       "Back to Black                                            0.215196\n",
       "Chergui                                                  0.215463\n",
       "Valentino Uomo Intense                                   0.215824\n",
       "4711 Original Eau de Cologne                             0.216814\n",
       "Dior Homme Parfum                                        0.217772\n",
       "Chocolate Greedy                                         0.218602\n",
       "Hermessence Ambre Narguile                               0.219391\n",
       "L’Homme Ideal Cologne                                    0.220010\n",
       "Herod                                                    0.222458\n",
       "Bentley for Men Intense                                  0.222759\n",
       "Mugler Cologne                                           0.222760\n",
       "Bvlgari Man In Black                                     0.223407\n",
       "Interlude Man                                            0.223438\n",
       "Millésime Impérial                                       0.224225\n",
       "CK One                                                   0.225227\n",
       "Un Jardin En Mediterranee                                0.229166\n",
       "Aqva Pour Homme                                          0.231182\n",
       "Armani Code Profumo                                      0.231595\n",
       "Orange Sanguine                                          0.232562\n",
       "London for Men                                           0.234140\n",
       "Dior Homme Sport                                         0.235740\n",
       "A*Men                                                    0.237391\n",
       "Un Jardin Sur Le Toit                                    0.239788\n",
       "Cool Water                                               0.240364\n",
       "Chrome                                                   0.241094\n",
       "Le Jardin de Monsieur Li                                 0.241543\n",
       "Tobacco Vanille                                          0.242899\n",
       "Un Jardin Sur Le Nil                                     0.249809\n",
       "Acqua di Gio                                             0.250344\n",
       "Acqua di Parma Blu Mediterraneo - Fico di Amalfi         0.252517\n",
       "La Chasse aux Papillons                                  0.252964\n",
       "Spicebomb Extreme                                        0.256067\n",
       "Light Blue pour Homme                                    0.259000\n",
       "By the Fireplace                                         0.259258\n",
       "Neroli Portofino                                         0.263666\n",
       "Nautica Voyage                                           0.269034\n",
       "L'Eau par Kenzo pour Homme                               0.269339\n",
       "Dior Homme Cologne 2013                                  0.270424\n",
       "Clinique Happy                                           0.271714\n",
       "Aqua Allegoria Herba Fresca                              0.272340\n",
       "Versace Man Eau Fraiche                                  0.272518\n",
       "Aqva Pour Homme Marine                                   0.287766\n",
       "Virgin Island Water                                      0.305958\n",
       "dtype: float64"
      ]
     },
     "execution_count": 31,
     "metadata": {},
     "output_type": "execute_result"
    }
   ],
   "source": [
    "fragdb_seasons.std(axis=1).sort_values()"
   ]
  },
  {
   "cell_type": "markdown",
   "metadata": {},
   "source": [
    "Top 10 Fragrances by highest presence of a given note:"
   ]
  },
  {
   "cell_type": "code",
   "execution_count": 18,
   "metadata": {},
   "outputs": [
    {
     "name": "stdout",
     "output_type": "stream",
     "text": [
      "Azzaro pour Homme                  1.0\n",
      "Egoiste Platinum                   1.0\n",
      "F by Ferragamo Black               1.0\n",
      "Legend                             1.0\n",
      "Drakkar Noir                       1.0\n",
      "Eternity For Men                   1.0\n",
      "Dolce&Gabbana pour Homme (1994)    1.0\n",
      "CK be                              1.0\n",
      "Blue Jeans                         1.0\n",
      "Dreamer The Original Edition       1.0\n",
      "Name: Lavender, dtype: float64\n"
     ]
    }
   ],
   "source": [
    "note = \"Lavender\"\n",
    "print(fragdb_notes.sort_values(note, ascending=False)[note].iloc[:10])"
   ]
  }
 ],
 "metadata": {
  "kernelspec": {
   "display_name": "Python 3",
   "language": "python",
   "name": "python3"
  },
  "language_info": {
   "codemirror_mode": {
    "name": "ipython",
    "version": 3
   },
   "file_extension": ".py",
   "mimetype": "text/x-python",
   "name": "python",
   "nbconvert_exporter": "python",
   "pygments_lexer": "ipython3",
   "version": "3.11.4"
  }
 },
 "nbformat": 4,
 "nbformat_minor": 4
}
