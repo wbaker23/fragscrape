{
 "cells": [
  {
   "cell_type": "code",
   "execution_count": 89,
   "metadata": {},
   "outputs": [],
   "source": [
    "import pandas as pd"
   ]
  },
  {
   "cell_type": "code",
   "execution_count": 90,
   "metadata": {},
   "outputs": [
    {
     "name": "stdout",
     "output_type": "stream",
     "text": [
      "5376 total rows\n"
     ]
    }
   ],
   "source": [
    "# Load all 6 .csv files and show the number of total rows\n",
    "\n",
    "df_17 = pd.read_csv(\"mens_all_time_2017.csv\", index_col=\"link\").add_suffix(\"_17\")\n",
    "df_18 = pd.read_csv(\"mens_all_time_2018.csv\", index_col=\"link\").add_suffix(\"_18\")\n",
    "df_19 = pd.read_csv(\"mens_all_time_2019.csv\", index_col=\"link\").add_suffix(\"_19\")\n",
    "df_20 = pd.read_csv(\"mens_all_time_2020.csv\", index_col=\"link\").add_suffix(\"_20\")\n",
    "df_21 = pd.read_csv(\"mens_all_time_2021.csv\", index_col=\"link\").add_suffix(\"_21\")\n",
    "df_22 = pd.read_csv(\"mens_all_time_2022.csv\", index_col=\"link\").add_suffix(\"_22\")\n",
    "\n",
    "print(\n",
    "    f\"{df_17.shape[0] + df_18.shape[0] + df_19.shape[0] + df_20.shape[0] + df_21.shape[0] + df_22.shape[0]} total rows\"\n",
    ")"
   ]
  },
  {
   "cell_type": "code",
   "execution_count": 91,
   "metadata": {},
   "outputs": [],
   "source": [
    "# Combine all 6 dataframes and calculate totals columns\n",
    "\n",
    "df_combined = pd.concat([df_17, df_18, df_19, df_20, df_21, df_22], axis=1)\n",
    "\n",
    "df_combined[\"upvotes_total\"] = (\n",
    "    df_combined[\"upvotes_17\"]\n",
    "    + df_combined[\"upvotes_18\"]\n",
    "    + df_combined[\"upvotes_19\"]\n",
    "    + df_combined[\"upvotes_20\"]\n",
    "    + df_combined[\"upvotes_21\"]\n",
    "    + df_combined[\"upvotes_22\"]\n",
    ")\n",
    "df_combined[\"downvotes_total\"] = (\n",
    "    df_combined[\"downvotes_17\"]\n",
    "    + df_combined[\"downvotes_18\"]\n",
    "    + df_combined[\"downvotes_19\"]\n",
    "    + df_combined[\"downvotes_20\"]\n",
    "    + df_combined[\"downvotes_21\"]\n",
    "    + df_combined[\"downvotes_22\"]\n",
    ")\n",
    "df_combined[\"order_total\"] = (\n",
    "    df_combined[\"order_17\"]\n",
    "    + df_combined[\"order_18\"]\n",
    "    + df_combined[\"order_19\"]\n",
    "    + df_combined[\"order_20\"]\n",
    "    + df_combined[\"order_21\"]\n",
    "    + df_combined[\"order_22\"]\n",
    ")"
   ]
  },
  {
   "cell_type": "code",
   "execution_count": 92,
   "metadata": {},
   "outputs": [
    {
     "name": "stdout",
     "output_type": "stream",
     "text": [
      "1 record has a name that does not match across years\n",
      "2477 rows\n"
     ]
    }
   ],
   "source": [
    "# Remove rows from the combined dataframe which do not have the same fragrance name across years\n",
    "\n",
    "df_combined[\"check_names\"] = (\n",
    "    df_combined[\n",
    "        [\"name_17\", \"name_18\", \"name_19\", \"name_20\", \"name_21\", \"name_22\"]\n",
    "    ].nunique(axis=1)\n",
    "    == 1\n",
    ")\n",
    "print(\n",
    "    f\"{df_combined[~df_combined['check_names']].shape[0]} record has a name that does not match across years\"\n",
    ")\n",
    "\n",
    "df_combined = df_combined[df_combined[\"check_names\"]]\n",
    "print(f\"{df_combined.shape[0]} rows\")"
   ]
  },
  {
   "cell_type": "code",
   "execution_count": 93,
   "metadata": {},
   "outputs": [],
   "source": [
    "# Write combined dataframe to Excel file\n",
    "\n",
    "df_combined.to_csv(\"mens_all_time_combined.csv\")"
   ]
  }
 ],
 "metadata": {
  "kernelspec": {
   "display_name": "venv",
   "language": "python",
   "name": "python3"
  },
  "language_info": {
   "codemirror_mode": {
    "name": "ipython",
    "version": 3
   },
   "file_extension": ".py",
   "mimetype": "text/x-python",
   "name": "python",
   "nbconvert_exporter": "python",
   "pygments_lexer": "ipython3",
   "version": "3.11.4"
  }
 },
 "nbformat": 4,
 "nbformat_minor": 2
}
