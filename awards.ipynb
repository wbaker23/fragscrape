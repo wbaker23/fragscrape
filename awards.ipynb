{
 "cells": [
  {
   "cell_type": "code",
   "execution_count": 130,
   "metadata": {},
   "outputs": [],
   "source": [
    "import pandas as pd"
   ]
  },
  {
   "cell_type": "code",
   "execution_count": 131,
   "metadata": {},
   "outputs": [
    {
     "name": "stdout",
     "output_type": "stream",
     "text": [
      "5376 total rows\n"
     ]
    }
   ],
   "source": [
    "# Load all 6 .csv files and show the number of total rows\n",
    "\n",
    "df_17 = pd.read_csv(\"mens_all_time_2017.csv\", index_col=\"link\").add_suffix(\"_17\")\n",
    "df_17[\"inverse_rank_17\"] = df_17.shape[0] - df_17[\"order_17\"] + 1\n",
    "\n",
    "df_18 = pd.read_csv(\"mens_all_time_2018.csv\", index_col=\"link\").add_suffix(\"_18\")\n",
    "df_18[\"inverse_rank_18\"] = df_18.shape[0] - df_18[\"order_18\"] + 1\n",
    "\n",
    "df_19 = pd.read_csv(\"mens_all_time_2019.csv\", index_col=\"link\").add_suffix(\"_19\")\n",
    "df_19[\"inverse_rank_19\"] = df_19.shape[0] - df_19[\"order_19\"] + 1\n",
    "\n",
    "df_20 = pd.read_csv(\"mens_all_time_2020.csv\", index_col=\"link\").add_suffix(\"_20\")\n",
    "df_20[\"inverse_rank_20\"] = df_20.shape[0] - df_20[\"order_20\"] + 1\n",
    "\n",
    "df_21 = pd.read_csv(\"mens_all_time_2021.csv\", index_col=\"link\").add_suffix(\"_21\")\n",
    "df_21[\"inverse_rank_21\"] = df_21.shape[0] - df_21[\"order_21\"] + 1\n",
    "\n",
    "df_22 = pd.read_csv(\"mens_all_time_2022.csv\", index_col=\"link\").add_suffix(\"_22\")\n",
    "df_22[\"inverse_rank_22\"] = df_22.shape[0] - df_22[\"order_22\"] + 1\n",
    "\n",
    "print(\n",
    "    f\"{df_17.shape[0] + df_18.shape[0] + df_19.shape[0] + df_20.shape[0] + df_21.shape[0] + df_22.shape[0]} total rows\"\n",
    ")"
   ]
  },
  {
   "cell_type": "code",
   "execution_count": 132,
   "metadata": {},
   "outputs": [],
   "source": [
    "# Combine all 6 dataframes and calculate totals columns\n",
    "\n",
    "df_combined = pd.concat([df_17, df_18, df_19, df_20, df_21, df_22], axis=1)\n",
    "\n",
    "df_combined[\"upvotes_total\"] = df_combined[\n",
    "    [\"upvotes_17\", \"upvotes_18\", \"upvotes_19\", \"upvotes_20\", \"upvotes_21\", \"upvotes_22\"]\n",
    "].sum(axis=1)\n",
    "df_combined[\"downvotes_total\"] = df_combined[\n",
    "    [\n",
    "        \"downvotes_17\",\n",
    "        \"downvotes_18\",\n",
    "        \"downvotes_19\",\n",
    "        \"downvotes_20\",\n",
    "        \"downvotes_21\",\n",
    "        \"downvotes_22\",\n",
    "    ]\n",
    "].sum(axis=1)\n",
    "df_combined[\"inverse_rank_total\"] = df_combined[\n",
    "    [\n",
    "        \"inverse_rank_17\",\n",
    "        \"inverse_rank_18\",\n",
    "        \"inverse_rank_19\",\n",
    "        \"inverse_rank_20\",\n",
    "        \"inverse_rank_21\",\n",
    "        \"inverse_rank_22\",\n",
    "    ]\n",
    "].sum(axis=1)"
   ]
  },
  {
   "cell_type": "code",
   "execution_count": 133,
   "metadata": {},
   "outputs": [
    {
     "name": "stdout",
     "output_type": "stream",
     "text": [
      "1 record has a name that does not match across years\n",
      "2477 rows\n"
     ]
    }
   ],
   "source": [
    "# Remove rows from the combined dataframe which do not have the same fragrance name across years\n",
    "\n",
    "df_combined[\"check_names\"] = (\n",
    "    df_combined[\n",
    "        [\"name_17\", \"name_18\", \"name_19\", \"name_20\", \"name_21\", \"name_22\"]\n",
    "    ].nunique(axis=1)\n",
    "    == 1\n",
    ")\n",
    "print(\n",
    "    f\"{df_combined[~df_combined['check_names']].shape[0]} record has a name that does not match across years\"\n",
    ")\n",
    "\n",
    "df_combined = df_combined[df_combined[\"check_names\"]]\n",
    "\n",
    "df_combined[\"name\"] = (\n",
    "    df_combined[\"name_17\"]\n",
    "    .combine_first(df_combined[\"name_18\"])\n",
    "    .combine_first(df_combined[\"name_19\"])\n",
    "    .combine_first(df_combined[\"name_20\"])\n",
    "    .combine_first(df_combined[\"name_21\"])\n",
    "    .combine_first(df_combined[\"name_22\"])\n",
    ")\n",
    "df_combined.drop(\n",
    "    columns=[\n",
    "        \"check_names\",\n",
    "        \"name_17\",\n",
    "        \"name_18\",\n",
    "        \"name_19\",\n",
    "        \"name_20\",\n",
    "        \"name_21\",\n",
    "        \"name_22\",\n",
    "    ],\n",
    "    inplace=True,\n",
    ")\n",
    "print(f\"{df_combined.shape[0]} rows\")"
   ]
  },
  {
   "cell_type": "code",
   "execution_count": 134,
   "metadata": {},
   "outputs": [],
   "source": [
    "# Write combined dataframe to Excel file\n",
    "\n",
    "df_combined.to_csv(\"mens_all_time_combined.csv\")"
   ]
  }
 ],
 "metadata": {
  "kernelspec": {
   "display_name": "venv",
   "language": "python",
   "name": "python3"
  },
  "language_info": {
   "codemirror_mode": {
    "name": "ipython",
    "version": 3
   },
   "file_extension": ".py",
   "mimetype": "text/x-python",
   "name": "python",
   "nbconvert_exporter": "python",
   "pygments_lexer": "ipython3",
   "version": "3.11.4"
  }
 },
 "nbformat": 4,
 "nbformat_minor": 2
}
